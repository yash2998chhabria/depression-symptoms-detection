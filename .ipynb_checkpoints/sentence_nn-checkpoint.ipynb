{
 "cells": [
  {
   "cell_type": "code",
   "execution_count": 0,
   "metadata": {
    "colab": {},
    "colab_type": "code",
    "id": "d6eUu0MZG7iZ"
   },
   "outputs": [],
   "source": [
    "import pandas as pd\n",
    "import numpy as np\n",
    "from sklearn.model_selection import train_test_split"
   ]
  },
  {
   "cell_type": "code",
   "execution_count": 0,
   "metadata": {
    "colab": {},
    "colab_type": "code",
    "id": "pgDP49OKHoZu"
   },
   "outputs": [],
   "source": [
    "data = pd.read_csv('/content/drive/My Drive/depressionrnn/sent_numeric_final.csv')"
   ]
  },
  {
   "cell_type": "code",
   "execution_count": 3,
   "metadata": {
    "colab": {
     "base_uri": "https://localhost:8080/",
     "height": 439
    },
    "colab_type": "code",
    "executionInfo": {
     "elapsed": 2397,
     "status": "ok",
     "timestamp": 1589017201324,
     "user": {
      "displayName": "Yash Chhabria",
      "photoUrl": "https://lh3.googleusercontent.com/a-/AOh14Gio1pl-whSee6SjtzmDHmiKpxU7kfQPPeefJ8biCg=s64",
      "userId": "06022545994529794705"
     },
     "user_tz": -330
    },
    "id": "IM95m281ITre",
    "outputId": "5de4825c-a7a3-4315-9142-57c2f50bfc05"
   },
   "outputs": [
    {
     "data": {
      "text/html": [
       "<div>\n",
       "<style scoped>\n",
       "    .dataframe tbody tr th:only-of-type {\n",
       "        vertical-align: middle;\n",
       "    }\n",
       "\n",
       "    .dataframe tbody tr th {\n",
       "        vertical-align: top;\n",
       "    }\n",
       "\n",
       "    .dataframe thead th {\n",
       "        text-align: right;\n",
       "    }\n",
       "</style>\n",
       "<table border=\"1\" class=\"dataframe\">\n",
       "  <thead>\n",
       "    <tr style=\"text-align: right;\">\n",
       "      <th></th>\n",
       "      <th>condition</th>\n",
       "      <th>0</th>\n",
       "      <th>1</th>\n",
       "      <th>2</th>\n",
       "      <th>3</th>\n",
       "      <th>4</th>\n",
       "      <th>5</th>\n",
       "      <th>6</th>\n",
       "      <th>7</th>\n",
       "      <th>8</th>\n",
       "      <th>9</th>\n",
       "      <th>10</th>\n",
       "      <th>11</th>\n",
       "      <th>12</th>\n",
       "      <th>13</th>\n",
       "      <th>14</th>\n",
       "      <th>15</th>\n",
       "      <th>16</th>\n",
       "      <th>17</th>\n",
       "      <th>18</th>\n",
       "      <th>19</th>\n",
       "      <th>20</th>\n",
       "      <th>21</th>\n",
       "      <th>22</th>\n",
       "      <th>23</th>\n",
       "      <th>24</th>\n",
       "      <th>25</th>\n",
       "      <th>26</th>\n",
       "      <th>27</th>\n",
       "      <th>28</th>\n",
       "      <th>29</th>\n",
       "      <th>30</th>\n",
       "      <th>31</th>\n",
       "      <th>32</th>\n",
       "      <th>33</th>\n",
       "      <th>34</th>\n",
       "      <th>35</th>\n",
       "    </tr>\n",
       "  </thead>\n",
       "  <tbody>\n",
       "    <tr>\n",
       "      <th>0</th>\n",
       "      <td>0</td>\n",
       "      <td>0.001627</td>\n",
       "      <td>0.057593</td>\n",
       "      <td>0.014496</td>\n",
       "      <td>0.557964</td>\n",
       "      <td>0.006982</td>\n",
       "      <td>0.012979</td>\n",
       "      <td>0.047923</td>\n",
       "      <td>0.001594</td>\n",
       "      <td>0.000548</td>\n",
       "      <td>0.002371</td>\n",
       "      <td>0.010774</td>\n",
       "      <td>0.016187</td>\n",
       "      <td>0.003044</td>\n",
       "      <td>0.000865</td>\n",
       "      <td>0.006406</td>\n",
       "      <td>0.002740</td>\n",
       "      <td>0.015404</td>\n",
       "      <td>0.002702</td>\n",
       "      <td>0.005829</td>\n",
       "      <td>0.007469</td>\n",
       "      <td>0.005230</td>\n",
       "      <td>0.002537</td>\n",
       "      <td>0.021831</td>\n",
       "      <td>0.002972</td>\n",
       "      <td>0.000905</td>\n",
       "      <td>0.025278</td>\n",
       "      <td>0.119680</td>\n",
       "      <td>0.001273</td>\n",
       "      <td>0.197433</td>\n",
       "      <td>0.027596</td>\n",
       "      <td>0.042909</td>\n",
       "      <td>0.028412</td>\n",
       "      <td>0.003445</td>\n",
       "      <td>0.144661</td>\n",
       "      <td>0.010809</td>\n",
       "      <td>0.152555</td>\n",
       "    </tr>\n",
       "    <tr>\n",
       "      <th>1</th>\n",
       "      <td>1</td>\n",
       "      <td>0.018625</td>\n",
       "      <td>0.059010</td>\n",
       "      <td>0.015516</td>\n",
       "      <td>0.000000</td>\n",
       "      <td>0.000000</td>\n",
       "      <td>0.000000</td>\n",
       "      <td>0.000000</td>\n",
       "      <td>0.000000</td>\n",
       "      <td>0.000000</td>\n",
       "      <td>0.000000</td>\n",
       "      <td>0.000000</td>\n",
       "      <td>0.000000</td>\n",
       "      <td>0.000000</td>\n",
       "      <td>0.000000</td>\n",
       "      <td>0.000000</td>\n",
       "      <td>0.000000</td>\n",
       "      <td>0.000000</td>\n",
       "      <td>0.000000</td>\n",
       "      <td>0.000000</td>\n",
       "      <td>0.000000</td>\n",
       "      <td>0.000000</td>\n",
       "      <td>0.000000</td>\n",
       "      <td>0.000000</td>\n",
       "      <td>0.000000</td>\n",
       "      <td>0.000000</td>\n",
       "      <td>0.000000</td>\n",
       "      <td>0.000000</td>\n",
       "      <td>0.000000</td>\n",
       "      <td>0.000000</td>\n",
       "      <td>0.000000</td>\n",
       "      <td>0.000000</td>\n",
       "      <td>0.000000</td>\n",
       "      <td>0.000000</td>\n",
       "      <td>0.000000</td>\n",
       "      <td>0.000000</td>\n",
       "      <td>0.000000</td>\n",
       "    </tr>\n",
       "    <tr>\n",
       "      <th>2</th>\n",
       "      <td>0</td>\n",
       "      <td>0.001601</td>\n",
       "      <td>0.673036</td>\n",
       "      <td>0.000351</td>\n",
       "      <td>0.011216</td>\n",
       "      <td>0.537889</td>\n",
       "      <td>0.422260</td>\n",
       "      <td>0.713440</td>\n",
       "      <td>0.001468</td>\n",
       "      <td>0.590326</td>\n",
       "      <td>0.031161</td>\n",
       "      <td>0.064264</td>\n",
       "      <td>0.374536</td>\n",
       "      <td>0.179550</td>\n",
       "      <td>0.904945</td>\n",
       "      <td>0.002335</td>\n",
       "      <td>0.006470</td>\n",
       "      <td>0.022470</td>\n",
       "      <td>0.000595</td>\n",
       "      <td>0.004649</td>\n",
       "      <td>0.147445</td>\n",
       "      <td>0.002656</td>\n",
       "      <td>0.000000</td>\n",
       "      <td>0.000000</td>\n",
       "      <td>0.000000</td>\n",
       "      <td>0.000000</td>\n",
       "      <td>0.000000</td>\n",
       "      <td>0.000000</td>\n",
       "      <td>0.000000</td>\n",
       "      <td>0.000000</td>\n",
       "      <td>0.000000</td>\n",
       "      <td>0.000000</td>\n",
       "      <td>0.000000</td>\n",
       "      <td>0.000000</td>\n",
       "      <td>0.000000</td>\n",
       "      <td>0.000000</td>\n",
       "      <td>0.000000</td>\n",
       "    </tr>\n",
       "    <tr>\n",
       "      <th>3</th>\n",
       "      <td>1</td>\n",
       "      <td>0.901723</td>\n",
       "      <td>0.758650</td>\n",
       "      <td>0.918634</td>\n",
       "      <td>0.400417</td>\n",
       "      <td>0.085800</td>\n",
       "      <td>0.966300</td>\n",
       "      <td>0.991832</td>\n",
       "      <td>0.000000</td>\n",
       "      <td>0.000000</td>\n",
       "      <td>0.000000</td>\n",
       "      <td>0.000000</td>\n",
       "      <td>0.000000</td>\n",
       "      <td>0.000000</td>\n",
       "      <td>0.000000</td>\n",
       "      <td>0.000000</td>\n",
       "      <td>0.000000</td>\n",
       "      <td>0.000000</td>\n",
       "      <td>0.000000</td>\n",
       "      <td>0.000000</td>\n",
       "      <td>0.000000</td>\n",
       "      <td>0.000000</td>\n",
       "      <td>0.000000</td>\n",
       "      <td>0.000000</td>\n",
       "      <td>0.000000</td>\n",
       "      <td>0.000000</td>\n",
       "      <td>0.000000</td>\n",
       "      <td>0.000000</td>\n",
       "      <td>0.000000</td>\n",
       "      <td>0.000000</td>\n",
       "      <td>0.000000</td>\n",
       "      <td>0.000000</td>\n",
       "      <td>0.000000</td>\n",
       "      <td>0.000000</td>\n",
       "      <td>0.000000</td>\n",
       "      <td>0.000000</td>\n",
       "      <td>0.000000</td>\n",
       "    </tr>\n",
       "    <tr>\n",
       "      <th>4</th>\n",
       "      <td>0</td>\n",
       "      <td>0.025497</td>\n",
       "      <td>0.003074</td>\n",
       "      <td>0.002334</td>\n",
       "      <td>0.001891</td>\n",
       "      <td>0.010400</td>\n",
       "      <td>0.000666</td>\n",
       "      <td>0.005096</td>\n",
       "      <td>0.035518</td>\n",
       "      <td>0.022665</td>\n",
       "      <td>0.078190</td>\n",
       "      <td>0.024544</td>\n",
       "      <td>0.005663</td>\n",
       "      <td>0.087324</td>\n",
       "      <td>0.001214</td>\n",
       "      <td>0.014483</td>\n",
       "      <td>0.000000</td>\n",
       "      <td>0.000000</td>\n",
       "      <td>0.000000</td>\n",
       "      <td>0.000000</td>\n",
       "      <td>0.000000</td>\n",
       "      <td>0.000000</td>\n",
       "      <td>0.000000</td>\n",
       "      <td>0.000000</td>\n",
       "      <td>0.000000</td>\n",
       "      <td>0.000000</td>\n",
       "      <td>0.000000</td>\n",
       "      <td>0.000000</td>\n",
       "      <td>0.000000</td>\n",
       "      <td>0.000000</td>\n",
       "      <td>0.000000</td>\n",
       "      <td>0.000000</td>\n",
       "      <td>0.000000</td>\n",
       "      <td>0.000000</td>\n",
       "      <td>0.000000</td>\n",
       "      <td>0.000000</td>\n",
       "      <td>0.000000</td>\n",
       "    </tr>\n",
       "    <tr>\n",
       "      <th>...</th>\n",
       "      <td>...</td>\n",
       "      <td>...</td>\n",
       "      <td>...</td>\n",
       "      <td>...</td>\n",
       "      <td>...</td>\n",
       "      <td>...</td>\n",
       "      <td>...</td>\n",
       "      <td>...</td>\n",
       "      <td>...</td>\n",
       "      <td>...</td>\n",
       "      <td>...</td>\n",
       "      <td>...</td>\n",
       "      <td>...</td>\n",
       "      <td>...</td>\n",
       "      <td>...</td>\n",
       "      <td>...</td>\n",
       "      <td>...</td>\n",
       "      <td>...</td>\n",
       "      <td>...</td>\n",
       "      <td>...</td>\n",
       "      <td>...</td>\n",
       "      <td>...</td>\n",
       "      <td>...</td>\n",
       "      <td>...</td>\n",
       "      <td>...</td>\n",
       "      <td>...</td>\n",
       "      <td>...</td>\n",
       "      <td>...</td>\n",
       "      <td>...</td>\n",
       "      <td>...</td>\n",
       "      <td>...</td>\n",
       "      <td>...</td>\n",
       "      <td>...</td>\n",
       "      <td>...</td>\n",
       "      <td>...</td>\n",
       "      <td>...</td>\n",
       "      <td>...</td>\n",
       "    </tr>\n",
       "    <tr>\n",
       "      <th>1742</th>\n",
       "      <td>0</td>\n",
       "      <td>0.010756</td>\n",
       "      <td>0.022672</td>\n",
       "      <td>0.064848</td>\n",
       "      <td>0.009764</td>\n",
       "      <td>0.003504</td>\n",
       "      <td>0.001975</td>\n",
       "      <td>0.045825</td>\n",
       "      <td>0.009806</td>\n",
       "      <td>0.000739</td>\n",
       "      <td>0.011539</td>\n",
       "      <td>0.041411</td>\n",
       "      <td>0.008914</td>\n",
       "      <td>0.139236</td>\n",
       "      <td>0.692170</td>\n",
       "      <td>0.007354</td>\n",
       "      <td>0.001140</td>\n",
       "      <td>0.013954</td>\n",
       "      <td>0.009711</td>\n",
       "      <td>0.117604</td>\n",
       "      <td>0.006017</td>\n",
       "      <td>0.015846</td>\n",
       "      <td>0.000695</td>\n",
       "      <td>0.002400</td>\n",
       "      <td>0.014634</td>\n",
       "      <td>0.918869</td>\n",
       "      <td>0.030984</td>\n",
       "      <td>0.008268</td>\n",
       "      <td>0.006418</td>\n",
       "      <td>0.008598</td>\n",
       "      <td>0.000600</td>\n",
       "      <td>0.018710</td>\n",
       "      <td>0.000774</td>\n",
       "      <td>0.004047</td>\n",
       "      <td>0.000155</td>\n",
       "      <td>0.003306</td>\n",
       "      <td>0.007298</td>\n",
       "    </tr>\n",
       "    <tr>\n",
       "      <th>1743</th>\n",
       "      <td>0</td>\n",
       "      <td>0.002703</td>\n",
       "      <td>0.004468</td>\n",
       "      <td>0.019325</td>\n",
       "      <td>0.013272</td>\n",
       "      <td>0.021611</td>\n",
       "      <td>0.004587</td>\n",
       "      <td>0.001012</td>\n",
       "      <td>0.000201</td>\n",
       "      <td>0.002452</td>\n",
       "      <td>0.010408</td>\n",
       "      <td>0.003858</td>\n",
       "      <td>0.000810</td>\n",
       "      <td>0.002019</td>\n",
       "      <td>0.003105</td>\n",
       "      <td>0.434770</td>\n",
       "      <td>0.002884</td>\n",
       "      <td>0.012024</td>\n",
       "      <td>0.008344</td>\n",
       "      <td>0.003646</td>\n",
       "      <td>0.003827</td>\n",
       "      <td>0.002317</td>\n",
       "      <td>0.036637</td>\n",
       "      <td>0.000673</td>\n",
       "      <td>0.089411</td>\n",
       "      <td>0.003610</td>\n",
       "      <td>0.048780</td>\n",
       "      <td>0.004619</td>\n",
       "      <td>0.001183</td>\n",
       "      <td>0.002801</td>\n",
       "      <td>0.005719</td>\n",
       "      <td>0.494916</td>\n",
       "      <td>0.660741</td>\n",
       "      <td>0.006066</td>\n",
       "      <td>0.007334</td>\n",
       "      <td>0.006883</td>\n",
       "      <td>0.008321</td>\n",
       "    </tr>\n",
       "    <tr>\n",
       "      <th>1744</th>\n",
       "      <td>1</td>\n",
       "      <td>0.384833</td>\n",
       "      <td>0.759091</td>\n",
       "      <td>0.988976</td>\n",
       "      <td>0.836494</td>\n",
       "      <td>0.955679</td>\n",
       "      <td>0.017949</td>\n",
       "      <td>0.924520</td>\n",
       "      <td>0.200688</td>\n",
       "      <td>0.002150</td>\n",
       "      <td>0.805992</td>\n",
       "      <td>0.058129</td>\n",
       "      <td>0.030758</td>\n",
       "      <td>0.008038</td>\n",
       "      <td>0.004497</td>\n",
       "      <td>0.004414</td>\n",
       "      <td>0.179881</td>\n",
       "      <td>0.004874</td>\n",
       "      <td>0.169836</td>\n",
       "      <td>0.935106</td>\n",
       "      <td>0.010093</td>\n",
       "      <td>0.643853</td>\n",
       "      <td>0.012858</td>\n",
       "      <td>0.000352</td>\n",
       "      <td>0.007111</td>\n",
       "      <td>0.935400</td>\n",
       "      <td>0.909491</td>\n",
       "      <td>0.848957</td>\n",
       "      <td>0.805868</td>\n",
       "      <td>0.037851</td>\n",
       "      <td>0.022139</td>\n",
       "      <td>0.009748</td>\n",
       "      <td>0.944626</td>\n",
       "      <td>0.008024</td>\n",
       "      <td>0.981319</td>\n",
       "      <td>0.113276</td>\n",
       "      <td>0.010401</td>\n",
       "    </tr>\n",
       "    <tr>\n",
       "      <th>1745</th>\n",
       "      <td>1</td>\n",
       "      <td>0.021663</td>\n",
       "      <td>0.024507</td>\n",
       "      <td>0.009037</td>\n",
       "      <td>0.000000</td>\n",
       "      <td>0.000000</td>\n",
       "      <td>0.000000</td>\n",
       "      <td>0.000000</td>\n",
       "      <td>0.000000</td>\n",
       "      <td>0.000000</td>\n",
       "      <td>0.000000</td>\n",
       "      <td>0.000000</td>\n",
       "      <td>0.000000</td>\n",
       "      <td>0.000000</td>\n",
       "      <td>0.000000</td>\n",
       "      <td>0.000000</td>\n",
       "      <td>0.000000</td>\n",
       "      <td>0.000000</td>\n",
       "      <td>0.000000</td>\n",
       "      <td>0.000000</td>\n",
       "      <td>0.000000</td>\n",
       "      <td>0.000000</td>\n",
       "      <td>0.000000</td>\n",
       "      <td>0.000000</td>\n",
       "      <td>0.000000</td>\n",
       "      <td>0.000000</td>\n",
       "      <td>0.000000</td>\n",
       "      <td>0.000000</td>\n",
       "      <td>0.000000</td>\n",
       "      <td>0.000000</td>\n",
       "      <td>0.000000</td>\n",
       "      <td>0.000000</td>\n",
       "      <td>0.000000</td>\n",
       "      <td>0.000000</td>\n",
       "      <td>0.000000</td>\n",
       "      <td>0.000000</td>\n",
       "      <td>0.000000</td>\n",
       "    </tr>\n",
       "    <tr>\n",
       "      <th>1746</th>\n",
       "      <td>1</td>\n",
       "      <td>0.252177</td>\n",
       "      <td>0.447282</td>\n",
       "      <td>0.989096</td>\n",
       "      <td>0.269952</td>\n",
       "      <td>0.016820</td>\n",
       "      <td>0.365485</td>\n",
       "      <td>0.411667</td>\n",
       "      <td>0.000000</td>\n",
       "      <td>0.000000</td>\n",
       "      <td>0.000000</td>\n",
       "      <td>0.000000</td>\n",
       "      <td>0.000000</td>\n",
       "      <td>0.000000</td>\n",
       "      <td>0.000000</td>\n",
       "      <td>0.000000</td>\n",
       "      <td>0.000000</td>\n",
       "      <td>0.000000</td>\n",
       "      <td>0.000000</td>\n",
       "      <td>0.000000</td>\n",
       "      <td>0.000000</td>\n",
       "      <td>0.000000</td>\n",
       "      <td>0.000000</td>\n",
       "      <td>0.000000</td>\n",
       "      <td>0.000000</td>\n",
       "      <td>0.000000</td>\n",
       "      <td>0.000000</td>\n",
       "      <td>0.000000</td>\n",
       "      <td>0.000000</td>\n",
       "      <td>0.000000</td>\n",
       "      <td>0.000000</td>\n",
       "      <td>0.000000</td>\n",
       "      <td>0.000000</td>\n",
       "      <td>0.000000</td>\n",
       "      <td>0.000000</td>\n",
       "      <td>0.000000</td>\n",
       "      <td>0.000000</td>\n",
       "    </tr>\n",
       "  </tbody>\n",
       "</table>\n",
       "<p>1747 rows × 37 columns</p>\n",
       "</div>"
      ],
      "text/plain": [
       "      condition         0         1  ...        33        34        35\n",
       "0             0  0.001627  0.057593  ...  0.144661  0.010809  0.152555\n",
       "1             1  0.018625  0.059010  ...  0.000000  0.000000  0.000000\n",
       "2             0  0.001601  0.673036  ...  0.000000  0.000000  0.000000\n",
       "3             1  0.901723  0.758650  ...  0.000000  0.000000  0.000000\n",
       "4             0  0.025497  0.003074  ...  0.000000  0.000000  0.000000\n",
       "...         ...       ...       ...  ...       ...       ...       ...\n",
       "1742          0  0.010756  0.022672  ...  0.000155  0.003306  0.007298\n",
       "1743          0  0.002703  0.004468  ...  0.007334  0.006883  0.008321\n",
       "1744          1  0.384833  0.759091  ...  0.981319  0.113276  0.010401\n",
       "1745          1  0.021663  0.024507  ...  0.000000  0.000000  0.000000\n",
       "1746          1  0.252177  0.447282  ...  0.000000  0.000000  0.000000\n",
       "\n",
       "[1747 rows x 37 columns]"
      ]
     },
     "execution_count": 3,
     "metadata": {
      "tags": []
     },
     "output_type": "execute_result"
    }
   ],
   "source": [
    "data"
   ]
  },
  {
   "cell_type": "code",
   "execution_count": 4,
   "metadata": {
    "colab": {
     "base_uri": "https://localhost:8080/",
     "height": 663
    },
    "colab_type": "code",
    "executionInfo": {
     "elapsed": 2384,
     "status": "ok",
     "timestamp": 1589017201325,
     "user": {
      "displayName": "Yash Chhabria",
      "photoUrl": "https://lh3.googleusercontent.com/a-/AOh14Gio1pl-whSee6SjtzmDHmiKpxU7kfQPPeefJ8biCg=s64",
      "userId": "06022545994529794705"
     },
     "user_tz": -330
    },
    "id": "5HmLLBk6I49A",
    "outputId": "9a15ac3e-f0f3-4a7c-944b-52d8edbd90ba"
   },
   "outputs": [
    {
     "data": {
      "text/plain": [
       "condition      int64\n",
       "0            float64\n",
       "1            float64\n",
       "2            float64\n",
       "3            float64\n",
       "4            float64\n",
       "5            float64\n",
       "6            float64\n",
       "7            float64\n",
       "8            float64\n",
       "9            float64\n",
       "10           float64\n",
       "11           float64\n",
       "12           float64\n",
       "13           float64\n",
       "14           float64\n",
       "15           float64\n",
       "16           float64\n",
       "17           float64\n",
       "18           float64\n",
       "19           float64\n",
       "20           float64\n",
       "21           float64\n",
       "22           float64\n",
       "23           float64\n",
       "24           float64\n",
       "25           float64\n",
       "26           float64\n",
       "27           float64\n",
       "28           float64\n",
       "29           float64\n",
       "30           float64\n",
       "31           float64\n",
       "32           float64\n",
       "33           float64\n",
       "34           float64\n",
       "35           float64\n",
       "dtype: object"
      ]
     },
     "execution_count": 4,
     "metadata": {
      "tags": []
     },
     "output_type": "execute_result"
    }
   ],
   "source": [
    "data.dtypes"
   ]
  },
  {
   "cell_type": "code",
   "execution_count": 0,
   "metadata": {
    "colab": {},
    "colab_type": "code",
    "id": "kMsGZXToJ6zC"
   },
   "outputs": [],
   "source": [
    "Y=data.loc[:,'condition']"
   ]
  },
  {
   "cell_type": "code",
   "execution_count": 6,
   "metadata": {
    "colab": {
     "base_uri": "https://localhost:8080/",
     "height": 34
    },
    "colab_type": "code",
    "executionInfo": {
     "elapsed": 2371,
     "status": "ok",
     "timestamp": 1589017201327,
     "user": {
      "displayName": "Yash Chhabria",
      "photoUrl": "https://lh3.googleusercontent.com/a-/AOh14Gio1pl-whSee6SjtzmDHmiKpxU7kfQPPeefJ8biCg=s64",
      "userId": "06022545994529794705"
     },
     "user_tz": -330
    },
    "id": "cVi8lNrrL-2B",
    "outputId": "06ef16d9-3544-43ba-b572-dccf8a8dabe4"
   },
   "outputs": [
    {
     "data": {
      "text/plain": [
       "(1747,)"
      ]
     },
     "execution_count": 6,
     "metadata": {
      "tags": []
     },
     "output_type": "execute_result"
    }
   ],
   "source": [
    "Y.shape"
   ]
  },
  {
   "cell_type": "code",
   "execution_count": 0,
   "metadata": {
    "colab": {},
    "colab_type": "code",
    "id": "wKUqTehgL_j-"
   },
   "outputs": [],
   "source": [
    "X=data.loc[:,'0':]"
   ]
  },
  {
   "cell_type": "code",
   "execution_count": 8,
   "metadata": {
    "colab": {
     "base_uri": "https://localhost:8080/",
     "height": 34
    },
    "colab_type": "code",
    "executionInfo": {
     "elapsed": 2351,
     "status": "ok",
     "timestamp": 1589017201328,
     "user": {
      "displayName": "Yash Chhabria",
      "photoUrl": "https://lh3.googleusercontent.com/a-/AOh14Gio1pl-whSee6SjtzmDHmiKpxU7kfQPPeefJ8biCg=s64",
      "userId": "06022545994529794705"
     },
     "user_tz": -330
    },
    "id": "7d1LEbrQMKlW",
    "outputId": "820da23a-6dd3-495d-d1f9-d466a0f310f2"
   },
   "outputs": [
    {
     "data": {
      "text/plain": [
       "(1747, 36)"
      ]
     },
     "execution_count": 8,
     "metadata": {
      "tags": []
     },
     "output_type": "execute_result"
    }
   ],
   "source": [
    "X.shape"
   ]
  },
  {
   "cell_type": "code",
   "execution_count": 0,
   "metadata": {
    "colab": {},
    "colab_type": "code",
    "id": "OpYvBnCrMnUW"
   },
   "outputs": [],
   "source": [
    "x_train, x_test, y_train, y_test = train_test_split(X, Y, test_size = 0.2)"
   ]
  },
  {
   "cell_type": "code",
   "execution_count": 0,
   "metadata": {
    "colab": {},
    "colab_type": "code",
    "id": "EpyWXkfRPji1"
   },
   "outputs": [],
   "source": [
    "import torch\n",
    "import numpy as np\n",
    "import torch\n",
    "import torch.nn as nn\n",
    "import torch.nn.functional as F"
   ]
  },
  {
   "cell_type": "code",
   "execution_count": 0,
   "metadata": {
    "colab": {},
    "colab_type": "code",
    "id": "_iNroiEfPq29"
   },
   "outputs": [],
   "source": [
    "Xtrain_ = torch.tensor(x_train.values).float()\n",
    "Xtest_ = torch.tensor(x_test.values).float()\n",
    "Ytrain_ = torch.tensor(y_train.values).view(1,-1)[0]\n",
    "Ytest_ = torch.tensor(y_test.values).view(1,-1)[0]"
   ]
  },
  {
   "cell_type": "code",
   "execution_count": 0,
   "metadata": {
    "colab": {},
    "colab_type": "code",
    "id": "3wF1b_VPPy36"
   },
   "outputs": [],
   "source": [
    "input_size = 36\n",
    "output_size = 2\n",
    "hidden_size = 20"
   ]
  },
  {
   "cell_type": "code",
   "execution_count": 0,
   "metadata": {
    "colab": {},
    "colab_type": "code",
    "id": "_8doXTRVQ98U"
   },
   "outputs": [],
   "source": [
    "class Net(nn.Module):\n",
    "    \n",
    "    def __init__(self):\n",
    "        super(Net, self).__init__()\n",
    "        self.fc1 = nn.Linear(input_size, hidden_size) \n",
    "        self.fc2 = nn.Linear(hidden_size, hidden_size) \n",
    "        #self.fc3 = nn.Linear(hidden_size, hidden_size)\n",
    "        self.fc3 = nn.Linear(hidden_size, output_size) \n",
    "    \n",
    "    def forward(self, x):\n",
    "        x = torch.sigmoid(self.fc1(x))\n",
    "        x = torch.sigmoid(self.fc2(x))\n",
    "        #x = F.sigmoid(self.fc3(x))\n",
    "        x = self.fc3(x)\n",
    "        \n",
    "        return F.log_softmax(x, dim=-1)"
   ]
  },
  {
   "cell_type": "code",
   "execution_count": 0,
   "metadata": {
    "colab": {},
    "colab_type": "code",
    "id": "4lE7ddCTRCJ-"
   },
   "outputs": [],
   "source": [
    "model = Net()"
   ]
  },
  {
   "cell_type": "code",
   "execution_count": 0,
   "metadata": {
    "colab": {},
    "colab_type": "code",
    "id": "ZloAZOZXRQPL"
   },
   "outputs": [],
   "source": [
    "import torch.optim as optim\n",
    "\n",
    "optimizer = optim.Adam(model.parameters())\n",
    "\n",
    "loss_fn = nn.NLLLoss()"
   ]
  },
  {
   "cell_type": "code",
   "execution_count": 0,
   "metadata": {
    "colab": {
     "base_uri": "https://localhost:8080/",
     "height": 85
    },
    "colab_type": "code",
    "executionInfo": {
     "elapsed": 2012,
     "status": "ok",
     "timestamp": 1588866312256,
     "user": {
      "displayName": "Yash Chhabria",
      "photoUrl": "https://lh3.googleusercontent.com/a-/AOh14Gio1pl-whSee6SjtzmDHmiKpxU7kfQPPeefJ8biCg=s64",
      "userId": "06022545994529794705"
     },
     "user_tz": -330
    },
    "id": "uWzYmR3NRSQt",
    "outputId": "61b18396-b1b3-4c82-ba9f-fc8e7c00a104"
   },
   "outputs": [
    {
     "name": "stdout",
     "output_type": "stream",
     "text": [
      "epoch - 100 (6%) train loss - 0.69 test loss - 0.70 accuracy - 0.4714\n",
      "epoch - 200 (13%) train loss - 0.69 test loss - 0.69 accuracy - 0.4771\n",
      "epoch - 300 (20%) train loss - 0.69 test loss - 0.69 accuracy - 0.5057\n",
      "epoch - 400 (26%) train loss - 0.69 test loss - 0.69 accuracy - 0.4829\n"
     ]
    }
   ],
   "source": [
    "epoch_data = []\n",
    "epochs = 401\n",
    "\n",
    "for epoch in range(1, epochs):\n",
    "\n",
    "    optimizer.zero_grad()\n",
    "    Ypred = model(Xtrain_)\n",
    "\n",
    "    loss = loss_fn(Ypred , Ytrain_)\n",
    "    loss.backward()\n",
    "\n",
    "    optimizer.step()\n",
    "        \n",
    "    Ypred_test = model(Xtest_)\n",
    "    loss_test = loss_fn(Ypred_test, Ytest_)\n",
    "    \n",
    "    _,pred = Ypred_test.data.max(1)\n",
    "    \n",
    "    accuracy = pred.eq(Ytest_.data).sum().item() / y_test.values.size\n",
    "    epoch_data.append([epoch, loss.data.item(), loss_test.data.item(), accuracy])\n",
    "    \n",
    "    if epoch % 100 == 0:\n",
    "        print ('epoch - %d (%d%%) train loss - %.2f test loss - %.2f accuracy - %.4f'\\\n",
    "               % (epoch, epoch/150 * 10 , loss.data.item(), loss_test.data.item(), accuracy))"
   ]
  },
  {
   "cell_type": "code",
   "execution_count": 0,
   "metadata": {
    "colab": {},
    "colab_type": "code",
    "id": "J3mbMIG4RVjm"
   },
   "outputs": [],
   "source": [
    "sent=[]\n",
    "for i in range(18):\n",
    "  sent.append(1)\n",
    "  sent.append(0)"
   ]
  },
  {
   "cell_type": "code",
   "execution_count": 0,
   "metadata": {
    "colab": {
     "base_uri": "https://localhost:8080/",
     "height": 629
    },
    "colab_type": "code",
    "executionInfo": {
     "elapsed": 957,
     "status": "ok",
     "timestamp": 1588866330897,
     "user": {
      "displayName": "Yash Chhabria",
      "photoUrl": "https://lh3.googleusercontent.com/a-/AOh14Gio1pl-whSee6SjtzmDHmiKpxU7kfQPPeefJ8biCg=s64",
      "userId": "06022545994529794705"
     },
     "user_tz": -330
    },
    "id": "3Zg2Gcx1E7FL",
    "outputId": "94a72692-1daf-41a7-eaa6-d9350169f810"
   },
   "outputs": [
    {
     "data": {
      "text/plain": [
       "[1,\n",
       " 0,\n",
       " 1,\n",
       " 0,\n",
       " 1,\n",
       " 0,\n",
       " 1,\n",
       " 0,\n",
       " 1,\n",
       " 0,\n",
       " 1,\n",
       " 0,\n",
       " 1,\n",
       " 0,\n",
       " 1,\n",
       " 0,\n",
       " 1,\n",
       " 0,\n",
       " 1,\n",
       " 0,\n",
       " 1,\n",
       " 0,\n",
       " 1,\n",
       " 0,\n",
       " 1,\n",
       " 0,\n",
       " 1,\n",
       " 0,\n",
       " 1,\n",
       " 0,\n",
       " 1,\n",
       " 0,\n",
       " 1,\n",
       " 0,\n",
       " 1,\n",
       " 0]"
      ]
     },
     "execution_count": 67,
     "metadata": {
      "tags": []
     },
     "output_type": "execute_result"
    }
   ],
   "source": [
    "sent"
   ]
  },
  {
   "cell_type": "code",
   "execution_count": 0,
   "metadata": {
    "colab": {},
    "colab_type": "code",
    "id": "9QBP6sq5E8qL"
   },
   "outputs": [],
   "source": [
    "sample = np.array(sent)\n",
    "sample_tensor = torch.from_numpy(sample).float()"
   ]
  },
  {
   "cell_type": "code",
   "execution_count": 0,
   "metadata": {
    "colab": {},
    "colab_type": "code",
    "id": "VsTSL4t_F5To"
   },
   "outputs": [],
   "source": [
    "out = model(sample_tensor)\n",
    "_,predicted = torch.max(out.data,-1)"
   ]
  },
  {
   "cell_type": "code",
   "execution_count": 0,
   "metadata": {
    "colab": {
     "base_uri": "https://localhost:8080/",
     "height": 34
    },
    "colab_type": "code",
    "executionInfo": {
     "elapsed": 1082,
     "status": "ok",
     "timestamp": 1588866336798,
     "user": {
      "displayName": "Yash Chhabria",
      "photoUrl": "https://lh3.googleusercontent.com/a-/AOh14Gio1pl-whSee6SjtzmDHmiKpxU7kfQPPeefJ8biCg=s64",
      "userId": "06022545994529794705"
     },
     "user_tz": -330
    },
    "id": "dNP4q2eJGU3e",
    "outputId": "b9aa0445-f5c2-47ce-fe56-929daa2f3138"
   },
   "outputs": [
    {
     "data": {
      "text/plain": [
       "1"
      ]
     },
     "execution_count": 70,
     "metadata": {
      "tags": []
     },
     "output_type": "execute_result"
    }
   ],
   "source": [
    "predicted.item()"
   ]
  },
  {
   "cell_type": "code",
   "execution_count": 0,
   "metadata": {
    "colab": {
     "base_uri": "https://localhost:8080/",
     "height": 71
    },
    "colab_type": "code",
    "executionInfo": {
     "elapsed": 949,
     "status": "ok",
     "timestamp": 1588866344025,
     "user": {
      "displayName": "Yash Chhabria",
      "photoUrl": "https://lh3.googleusercontent.com/a-/AOh14Gio1pl-whSee6SjtzmDHmiKpxU7kfQPPeefJ8biCg=s64",
      "userId": "06022545994529794705"
     },
     "user_tz": -330
    },
    "id": "_jP3hJjjGdVy",
    "outputId": "eed3d62a-993e-49f7-dbe7-09c715f598cb"
   },
   "outputs": [
    {
     "name": "stderr",
     "output_type": "stream",
     "text": [
      "/usr/local/lib/python3.6/dist-packages/torch/serialization.py:402: UserWarning: Couldn't retrieve source code for container of type Net. It won't be checked for correctness upon loading.\n",
      "  \"type \" + obj.__name__ + \". It won't be checked \"\n"
     ]
    }
   ],
   "source": [
    "torch.save(model, '/content/drive/My Drive/depressionrnn/para50.pt')"
   ]
  },
  {
   "cell_type": "code",
   "execution_count": 0,
   "metadata": {
    "colab": {},
    "colab_type": "code",
    "id": "mDOsaru1H097"
   },
   "outputs": [],
   "source": []
  }
 ],
 "metadata": {
  "colab": {
   "authorship_tag": "ABX9TyPzgzaGDcwzf9Nlmg9/pP24",
   "collapsed_sections": [],
   "mount_file_id": "1vCKRw1ltdER3xzXMr89-fmiCyCH2Y5YL",
   "name": "sentence_nn",
   "provenance": []
  },
  "kernelspec": {
   "display_name": "Python 3",
   "language": "python",
   "name": "python3"
  },
  "language_info": {
   "codemirror_mode": {
    "name": "ipython",
    "version": 3
   },
   "file_extension": ".py",
   "mimetype": "text/x-python",
   "name": "python",
   "nbconvert_exporter": "python",
   "pygments_lexer": "ipython3",
   "version": "3.7.1"
  }
 },
 "nbformat": 4,
 "nbformat_minor": 1
}
